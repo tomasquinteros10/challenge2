{
 "cells": [
  {
   "cell_type": "markdown",
   "metadata": {},
   "source": [
    "Analisis de datos.\n",
    "Informacion del dataset. Presentacion de primeras filas.Datos estadisticos. "
   ]
  },
  {
   "cell_type": "code",
   "execution_count": 1,
   "metadata": {},
   "outputs": [
    {
     "name": "stdout",
     "output_type": "stream",
     "text": [
      "<class 'pandas.core.frame.DataFrame'>\n",
      "RangeIndex: 186412 entries, 0 to 186411\n",
      "Data columns (total 6 columns):\n",
      " #   Column           Non-Null Count   Dtype  \n",
      "---  ------           --------------   -----  \n",
      " 0   CODIGO_LOCACION  186412 non-null  object \n",
      " 1   HORA             186412 non-null  object \n",
      " 2   CANTIDAD         186412 non-null  int64  \n",
      " 3   SENTIDO          186412 non-null  object \n",
      " 4   LATITUD          186412 non-null  float64\n",
      " 5   LONGITUD         186412 non-null  float64\n",
      "dtypes: float64(2), int64(1), object(3)\n",
      "memory usage: 8.5+ MB\n",
      "None\n",
      "  CODIGO_LOCACION                 HORA  CANTIDAD  SENTIDO    LATITUD  \\\n",
      "0       48Q3CJ00+  2020-03-31 15:00:00       729  interna -34.588796   \n",
      "1       48Q3CJ00+  2020-03-31 15:00:00       447   egreso -34.588796   \n",
      "2       48Q39G00+  2020-03-31 15:00:00       175  interna -34.633299   \n",
      "3       48Q39G00+  2020-03-31 15:00:00      1186   egreso -34.633299   \n",
      "4       48Q3CH00+  2020-03-31 15:00:00        35   egreso -34.579632   \n",
      "\n",
      "    LONGITUD  \n",
      "0 -58.381520  \n",
      "1 -58.381520  \n",
      "2 -58.468594  \n",
      "3 -58.468594  \n",
      "4 -58.427733  \n",
      "            CANTIDAD        LATITUD       LONGITUD\n",
      "count  186412.000000  186412.000000  186412.000000\n",
      "mean     2106.356377     -34.599412     -58.422337\n",
      "std      2350.141473       0.027792       0.038587\n",
      "min         1.000000     -34.633299     -58.470968\n",
      "25%       433.000000     -34.633299     -58.468594\n",
      "50%      1193.000000     -34.588796     -58.427733\n",
      "75%      3047.250000     -34.579632     -58.381520\n",
      "max    179340.000000     -34.536980     -58.372951\n"
     ]
    }
   ],
   "source": [
    "import pandas as pd\n",
    "import matplotlib.pyplot as plt\n",
    "\n",
    "data = pd.read_csv('dataset_flujo_vehicular.csv') \n",
    "\n",
    "print(data.info())   \n",
    "\n",
    "print(data.head()) \n",
    "\n",
    "print(data.describe()) \n"
   ]
  },
  {
   "cell_type": "markdown",
   "metadata": {},
   "source": [
    "Limpieza de datos.\n",
    "Podemos observar que no se encuentran ni valores duplicados ni valores nulos a lo largo del conjunto de datos."
   ]
  },
  {
   "cell_type": "code",
   "execution_count": 2,
   "metadata": {},
   "outputs": [
    {
     "name": "stdout",
     "output_type": "stream",
     "text": [
      "Cantidad de filas: 186412\n",
      "valores nulos en cada columna: \n",
      "CODIGO_LOCACION    0\n",
      "HORA               0\n",
      "CANTIDAD           0\n",
      "SENTIDO            0\n",
      "LATITUD            0\n",
      "LONGITUD           0\n",
      "dtype: int64\n",
      "filas duplicadas: 0\n"
     ]
    }
   ],
   "source": [
    "cantidad_filas = len(data)\n",
    "\n",
    "print(f\"Cantidad de filas: {cantidad_filas}\")\n",
    "\n",
    "print(f\"valores nulos en cada columna: \\n{data.isnull().sum()}\")\n",
    "\n",
    "print(f\"filas duplicadas: {data.duplicated().sum()}\")"
   ]
  },
  {
   "cell_type": "markdown",
   "metadata": {},
   "source": [
    "Calculo de valores atipicos."
   ]
  },
  {
   "cell_type": "code",
   "execution_count": 3,
   "metadata": {},
   "outputs": [
    {
     "name": "stdout",
     "output_type": "stream",
     "text": [
      "filas con datos atipicos: 10123\n",
      "Los valores atipicos son: \n",
      "       CODIGO_LOCACION                 HORA  CANTIDAD  SENTIDO    LATITUD  \\\n",
      "2941         48Q39G00+  2020-03-19 22:00:00      7262   egreso -34.633299   \n",
      "2952         48Q39G00+  2020-03-19 21:00:00      7141   egreso -34.633299   \n",
      "2972         48Q39G00+  2020-03-19 20:00:00      7142   egreso -34.633299   \n",
      "2974         48Q39G00+  2020-03-19 19:00:00      7191  ingreso -34.633299   \n",
      "2981         48Q39J00+  2020-03-19 19:00:00      7947  interna -34.608550   \n",
      "...                ...                  ...       ...      ...        ...   \n",
      "186389       48Q39G00+  2022-01-26 09:00:00      7698  ingreso -34.633299   \n",
      "186392       48Q39G00+  2022-01-26 10:00:00      7343  ingreso -34.633299   \n",
      "186401       48Q39G00+  2022-01-26 13:00:00      7248  ingreso -34.633299   \n",
      "186406       48Q39G00+  2022-01-26 15:00:00      7618   egreso -34.633299   \n",
      "186409       48Q39G00+  2022-01-26 16:00:00      7870   egreso -34.633299   \n",
      "\n",
      "         LONGITUD  \n",
      "2941   -58.468594  \n",
      "2952   -58.468594  \n",
      "2972   -58.468594  \n",
      "2974   -58.468594  \n",
      "2981   -58.372951  \n",
      "...           ...  \n",
      "186389 -58.468594  \n",
      "186392 -58.468594  \n",
      "186401 -58.468594  \n",
      "186406 -58.468594  \n",
      "186409 -58.468594  \n",
      "\n",
      "[10123 rows x 6 columns]\n"
     ]
    }
   ],
   "source": [
    "# calcular cuartiles y rango intercuartil \n",
    "\n",
    "Q1 = data['CANTIDAD'].quantile(0.25)\n",
    "\n",
    "Q3 = data['CANTIDAD'].quantile(0.75)\n",
    "IQR = Q3 - Q1\n",
    "\n",
    "# identificacion de valores atipicos\n",
    "\n",
    "limite_inferior = Q1 - 1.5 * IQR\n",
    "limite_superior = Q3 + 1.5 * IQR\n",
    "\n",
    "atypicall = data[(data['CANTIDAD'] < limite_inferior) | (data['CANTIDAD'] > limite_superior)]\n",
    "\n",
    "cantidad_filas2 = len(atypicall)\n",
    "\n",
    "print(f\"filas con datos atipicos: {cantidad_filas2}\")\n",
    "\n",
    "print(f\"Los valores atipicos son: \\n{atypicall}\")\n"
   ]
  },
  {
   "cell_type": "markdown",
   "metadata": {},
   "source": [
    "Imputar los valores atipicos con la mediana. Asi tenemos un cambio en el dataset llamado data2. \n",
    "Luego de actualizar la dataset realizo un histograma con la distribucion de la frecuencia de los datos de CANTIDAD."
   ]
  },
  {
   "cell_type": "code",
   "execution_count": 4,
   "metadata": {},
   "outputs": [
    {
     "name": "stdout",
     "output_type": "stream",
     "text": [
      "Número de outliers restantes: 0\n",
      "datos actualizados: \n",
      "       CODIGO_LOCACION                 HORA  CANTIDAD  SENTIDO    LATITUD  \\\n",
      "0            48Q3CJ00+  2020-03-31 15:00:00     729.0  interna -34.588796   \n",
      "1            48Q3CJ00+  2020-03-31 15:00:00     447.0   egreso -34.588796   \n",
      "2            48Q39G00+  2020-03-31 15:00:00     175.0  interna -34.633299   \n",
      "3            48Q39G00+  2020-03-31 15:00:00    1186.0   egreso -34.633299   \n",
      "4            48Q3CH00+  2020-03-31 15:00:00      35.0   egreso -34.579632   \n",
      "...                ...                  ...       ...      ...        ...   \n",
      "186407       48Q39G00+  2022-01-26 15:00:00    6542.0  ingreso -34.633299   \n",
      "186408       48Q39G00+  2022-01-26 15:00:00    1168.0  interna -34.633299   \n",
      "186409       48Q39G00+  2022-01-26 16:00:00    1193.0   egreso -34.633299   \n",
      "186410       48Q39G00+  2022-01-26 16:00:00    5991.0  ingreso -34.633299   \n",
      "186411       48Q39G00+  2022-01-26 16:00:00    1028.0  interna -34.633299   \n",
      "\n",
      "         LONGITUD  \n",
      "0      -58.381520  \n",
      "1      -58.381520  \n",
      "2      -58.468594  \n",
      "3      -58.468594  \n",
      "4      -58.427733  \n",
      "...           ...  \n",
      "186407 -58.468594  \n",
      "186408 -58.468594  \n",
      "186409 -58.468594  \n",
      "186410 -58.468594  \n",
      "186411 -58.468594  \n",
      "\n",
      "[186412 rows x 6 columns]\n"
     ]
    },
    {
     "data": {
      "image/png": "[encoded data removed]",
      "text/plain": [
       "<Figure size 640x480 with 1 Axes>"
      ]
     },
     "metadata": {},
     "output_type": "display_data"
    }
   ],
   "source": [
    "# imputar outliers con la mediana\n",
    "\n",
    "import numpy as np\n",
    "\n",
    "mediana = data['CANTIDAD'].median()\n",
    "\n",
    "data['CANTIDAD'] = np.where((data['CANTIDAD'] < limite_inferior) | (data['CANTIDAD'] > limite_superior), mediana, data['CANTIDAD'])\n",
    "\n",
    "data2 = data\n",
    "\n",
    "# verificar el numero de outliers restantes\n",
    "\n",
    "outliers = data2[(data2['CANTIDAD'] < limite_inferior) | (data2['CANTIDAD'] > limite_superior)]\n",
    "\n",
    "print(f'Número de outliers restantes: {outliers.shape[0]}')\n",
    "\n",
    "print(f'datos actualizados: \\n{data2}')\n",
    "\n",
    "datagraph = data2['CANTIDAD']\n",
    "\n",
    "import matplotlib.pyplot as plt\n",
    "\n",
    "plt.hist(datagraph,bins=20)\n",
    "plt.title('histograma de CANTIDAD')\n",
    "plt.xlabel('Valor')\n",
    "plt.ylabel('Frecuencia')\n",
    "plt.show()"
   ]
  },
  {
   "cell_type": "markdown",
   "metadata": {},
   "source": [
    "Verificar validez de longitud y latitud. \n",
    "Ademas, verificamos la normalidad de la columna de SENTIDO "
   ]
  },
  {
   "cell_type": "code",
   "execution_count": 5,
   "metadata": {},
   "outputs": [
    {
     "name": "stdout",
     "output_type": "stream",
     "text": [
      "Número de latitudes inválidas: 0\n",
      "Número de longitudes inválidas: 0\n",
      "valores únicos de SENTIDO: ['interna' 'egreso' 'ingreso']\n"
     ]
    }
   ],
   "source": [
    "# verificar la latitud y la longitud\n",
    "invalid_latitudes = data[(data['LATITUD'] < -90) | (data['LATITUD'] > 90)]\n",
    "invalid_longitudes = data[(data['LONGITUD'] < -180) | (data['LONGITUD'] > 180)]\n",
    "print(f\"Número de latitudes inválidas: {len(invalid_latitudes)}\")\n",
    "print(f\"Número de longitudes inválidas: {len(invalid_longitudes)}\")\n",
    "\n",
    "# normalizar la columna SENTIDO\n",
    "data['SENTIDO'] = data['SENTIDO'].str.lower()\n",
    "\n",
    "# verificar los valores únicos de columna SENTIDO\n",
    "print(f\"valores únicos de SENTIDO: {data['SENTIDO'].unique()}\")"
   ]
  },
  {
   "cell_type": "markdown",
   "metadata": {},
   "source": [
    "Transformacion de los datos para el posterior analisis. \n",
    "Convierto a datetime la columna HORA, y separo cada columna.\n",
    "Luego, calculo la densidad de trafico= cantidad/(latitud-longitud).\n",
    "Finalmente categorizo con 0 1 2 la columna de SENTIDO"
   ]
  },
  {
   "cell_type": "code",
   "execution_count": 6,
   "metadata": {},
   "outputs": [
    {
     "name": "stdout",
     "output_type": "stream",
     "text": [
      "0    31\n",
      "1    31\n",
      "2    31\n",
      "3    31\n",
      "4    31\n",
      "Name: dia, dtype: int32\n",
      "0    3\n",
      "1    3\n",
      "2    3\n",
      "3    3\n",
      "4    3\n",
      "Name: mes, dtype: int32\n",
      "0    15\n",
      "1    15\n",
      "2    15\n",
      "3    15\n",
      "4    15\n",
      "Name: hora, dtype: int32 None None 0    2020\n",
      "1    2020\n",
      "2    2020\n",
      "3    2020\n",
      "4    2020\n",
      "Name: año, dtype: int32\n",
      "   SENTIDO  SENTIDO_CODIFICADO\n",
      "0  interna                   0\n",
      "1   egreso                   2\n",
      "2  interna                   0\n",
      "3   egreso                   2\n",
      "4   egreso                   2\n"
     ]
    }
   ],
   "source": [
    "data2=data\n",
    "# nuevas componentes de la columna HORA\n",
    "data2['HORA'] = pd.to_datetime(data2['HORA'])\n",
    "data2['año'] = data2['HORA'].dt.year\n",
    "data2['mes'] = data2['HORA'].dt.month\n",
    "data2['dia'] = data2['HORA'].dt.day\n",
    "data2['hora'] = data2['HORA'].dt.hour\n",
    "\n",
    "# columnas separadas\n",
    "print(data2['hora'].head(), print(data2['dia'].head() ), print(data2['mes'].head() ),  data2['año'].head() )\n",
    "\n",
    "\n",
    "# densidad de tráfico (cantidad dividida por diferencia absoluta de coordenadas)\n",
    "data2['densidad'] = data2['CANTIDAD'] / (data2['LATITUD'] - data2['LONGITUD']).abs()\n",
    "\n",
    "# diccionario para codificar las categorías\n",
    "codificacion = {'interna': 0, 'ingreso': 1, 'egreso': 2}\n",
    "data2['SENTIDO_CODIFICADO'] = data2['SENTIDO'].map(codificacion)\n",
    "print(data2[['SENTIDO', 'SENTIDO_CODIFICADO']].head())\n"
   ]
  },
  {
   "cell_type": "code",
   "execution_count": 7,
   "metadata": {},
   "outputs": [
    {
     "name": "stdout",
     "output_type": "stream",
     "text": [
      "el primer dia es 2 de marzo de 2020\n",
      "el ultimo dia es 12 de marzo de 2023\n"
     ]
    }
   ],
   "source": [
    "#saco el dia inicial y final de la columna HORA\n",
    "min_dia=data2['dia'][(data2['año']==2020) & (data2['mes']==3)].min()\n",
    "\n",
    "print(f\"el primer dia es {min_dia} de marzo de 2020\")\n",
    "\n",
    "max_dia=data2['dia'][(data2['año']==2022) & (data2['mes']==3)].max()\n",
    "\n",
    "print(f\"el ultimo dia es {max_dia} de marzo de 2023\")"
   ]
  },
  {
   "cell_type": "markdown",
   "metadata": {},
   "source": [
    "Con el codigo anterior, puedo saber que el dataset abarca un periodo temporal desde el 2/3/2020 hasta 12/3/2020\n",
    "Después de transformar los datos, realizo un análisis de datos agrupados para obtener relaciones sobre los distintos datos:"
   ]
  },
  {
   "cell_type": "markdown",
   "metadata": {},
   "source": [
    "Analisis de CANTIDAD respecto del tiempo, utilizo la funcion sum() para ver el impacto global de los datos"
   ]
  },
  {
   "cell_type": "code",
   "execution_count": 8,
   "metadata": {},
   "outputs": [
    {
     "name": "stdout",
     "output_type": "stream",
     "text": [
      "suma de cantidad por hora: \n",
      "hora\n",
      "0    5715293.0\n",
      "1    4131565.0\n",
      "2    2905132.0\n",
      "3    2285799.0\n",
      "4    2844152.0\n",
      "Name: CANTIDAD, dtype: float64\n"
     ]
    },
    {
     "data": {
      "image/png": "[encoded data removed]",
      "text/plain": [
       "<Figure size 400x300 with 1 Axes>"
      ]
     },
     "metadata": {},
     "output_type": "display_data"
    }
   ],
   "source": [
    "import matplotlib.pyplot as plt\n",
    "data2['HORA'] = pd.to_datetime(data2['HORA'])\n",
    "data2['hora'] = data2['HORA'].dt.hour\n",
    "\n",
    "\n",
    "# cantidad por hora\n",
    "cantidadpor_hora = data2.groupby('hora')['CANTIDAD'].sum()\n",
    "print(f\"suma de cantidad por hora: \\n{cantidadpor_hora.head()}\")\n",
    "cantidadpor_hora.plot(kind='bar', color='skyblue', figsize=(4, 3))\n",
    "\n",
    "# la grafica\n",
    "plt.title(' vehiculos por hora')\n",
    "plt.xlabel('hora')\n",
    "plt.ylabel('vehiculo')\n",
    "plt.xticks(rotation=45)\n",
    "plt.show()\n",
    "\n"
   ]
  },
  {
   "cell_type": "markdown",
   "metadata": {},
   "source": [
    "El grafico que relaciona cantidad de vehiculo por hora nos muestra que hay en general una mayor cantidad de vehiculos en las horas pico de CABA dadas de 7 a 11 y de 16 a 20\n",
    "Esto lo podemos verificar fijandonos cuantos vehiculos hay por fuera y por dentro de esas horas picos en el año 2021."
   ]
  },
  {
   "cell_type": "code",
   "execution_count": 9,
   "metadata": {},
   "outputs": [
    {
     "name": "stdout",
     "output_type": "stream",
     "text": [
      "hora pico 2021: 44703318.0\n",
      "hora no pico 2021: 27586541.0\n",
      "a la madrugada circulan: 18169754.0\n",
      "la conclusion es que en hora pico hay mas circulacion de vehiculos como dicen los graficos y los datos\n"
     ]
    }
   ],
   "source": [
    "data2['HORA'] = pd.to_datetime(data2['HORA'])\n",
    "data2['año'] = data2['HORA'].dt.year\n",
    "data2['mes'] = data2['HORA'].dt.month\n",
    "data2['dia'] = data2['HORA'].dt.day\n",
    "data2['hora'] = data2['HORA'].dt.hour\n",
    "\n",
    "horapico = data2['CANTIDAD'][(data2['hora'] >= 7 )& (data2['hora'] <= 11) &(data2['año'] == 2021)].sum()\n",
    "\n",
    "print(f\"hora pico 2021: {horapico}\")\n",
    "\n",
    "hora_nopico= data2['CANTIDAD'][(data2['hora'] >= 13 )& (data2['hora'] <= 15) &(data2['año'] == 2021)].sum()\n",
    "\n",
    "print(f\"hora no pico 2021: {hora_nopico}\")\n",
    "\n",
    "madrugada= data2['CANTIDAD'][(data2['hora'] >= 0 )& (data2['hora'] <= 6) &(data2['año'] == 2021)].sum()\n",
    "\n",
    "print(f\"a la madrugada circulan: {madrugada}\")\n",
    "\n",
    "print(\"la conclusion es que en hora pico hay mas circulacion de vehiculos como dicen los graficos y los datos\")"
   ]
  },
  {
   "cell_type": "code",
   "execution_count": 10,
   "metadata": {},
   "outputs": [
    {
     "name": "stdout",
     "output_type": "stream",
     "text": [
      " suma por dia: \n",
      "dia\n",
      "1     9516905.0\n",
      "2    10258289.0\n",
      "3    10850595.0\n",
      "4    10907769.0\n",
      "5    10643553.0\n",
      "Name: CANTIDAD, dtype: float64\n"
     ]
    },
    {
     "data": {
      "image/png": "[encoded data removed]",
      "text/plain": [
       "<Figure size 400x300 with 1 Axes>"
      ]
     },
     "metadata": {},
     "output_type": "display_data"
    }
   ],
   "source": [
    "import matplotlib.pyplot as plt\n",
    "\n",
    "#conversion de HORA\n",
    "data2['HORA'] = pd.to_datetime(data2['HORA'])\n",
    "data2['año'] = data2['HORA'].dt.year\n",
    "data2['mes'] = data2['HORA'].dt.month\n",
    "data2['dia'] = data2['HORA'].dt.day\n",
    "data2['hora'] = data2['HORA'].dt.hour\n",
    "\n",
    "\n",
    "# cantidad por dia\n",
    "cantidadpor_dia = data2.groupby('dia')['CANTIDAD'].sum()\n",
    "print(f\" suma por dia: \\n{cantidadpor_dia.head()}\")\n",
    "cantidadpor_dia.plot(kind='bar', color='skyblue', figsize=(4, 3))\n",
    "\n",
    "# grafica\n",
    "plt.title(' vehiculos por dia')\n",
    "plt.xlabel('dia')\n",
    "plt.ylabel('vehiculo')\n",
    "plt.xticks(rotation=45)\n",
    "plt.show()"
   ]
  },
  {
   "cell_type": "markdown",
   "metadata": {},
   "source": [
    "En este caso los datos se distribuyen de manera casi uniforme aunque en los primeros dias se ve una tendencia creciente luego se mantienen hasta que en el dia 31 se nota una baja notable del flujo vehicular. El comportamiento de los datos se puede dar por el hecho de que la gente a fin de mes no quiere gastar de mas en combustible lo que implica el transito vehicular.\n",
    "Podemos verificarlo con el siguiente codigo."
   ]
  },
  {
   "cell_type": "code",
   "execution_count": 11,
   "metadata": {},
   "outputs": [
    {
     "name": "stdout",
     "output_type": "stream",
     "text": [
      " entre 7 y 15 se ve esta cantidad 47984273.0\n",
      " en el dia 31 se ve esta cantidad 2829764.0\n",
      "se verifica lo de la grafica donde hay poco trafico en el dia 31 True\n"
     ]
    }
   ],
   "source": [
    "data2['HORA'] = pd.to_datetime(data2['HORA'])\n",
    "data2['año'] = data2['HORA'].dt.year\n",
    "data2['mes'] = data2['HORA'].dt.month\n",
    "data2['dia'] = data2['HORA'].dt.day\n",
    "data2['hora'] = data2['HORA'].dt.hour\n",
    "\n",
    "dias_muchos = data2['CANTIDAD'][(data2['dia'] >= 7 ) & (data2['dia'] <= 15) & (data2['año'] == 2021)].sum()\n",
    "\n",
    "print(f\" entre 7 y 15 se ve esta cantidad {dias_muchos}\")\n",
    "\n",
    "dias_pocos= data2['CANTIDAD'][(data2['dia'] == 31)&(data2['año'] == 2021)].sum()\n",
    "print(f\" en el dia 31 se ve esta cantidad {dias_pocos}\")\n",
    "\n",
    "{dias_pocos<dias_muchos}\n",
    "print(f\"se verifica lo de la grafica donde hay poco trafico en el dia 31 {dias_pocos<dias_muchos}\")"
   ]
  },
  {
   "cell_type": "code",
   "execution_count": 12,
   "metadata": {},
   "outputs": [
    {
     "name": "stdout",
     "output_type": "stream",
     "text": [
      "cantidad por mes: \n",
      "mes\n",
      "1    27810439.0\n",
      "2    26654743.0\n",
      "3    33013161.0\n",
      "4    23121481.0\n",
      "5    23978473.0\n",
      "Name: CANTIDAD, dtype: float64\n"
     ]
    },
    {
     "data": {
      "image/png": "[encoded data removed]",
      "text/plain": [
       "<Figure size 400x300 with 1 Axes>"
      ]
     },
     "metadata": {},
     "output_type": "display_data"
    }
   ],
   "source": [
    "import matplotlib.pyplot as plt\n",
    "\n",
    "#conversion de HORA\n",
    "data2['HORA'] = pd.to_datetime(data2['HORA'])\n",
    "data2['año'] = data2['HORA'].dt.year\n",
    "data2['mes'] = data2['HORA'].dt.month\n",
    "data2['dia'] = data2['HORA'].dt.day\n",
    "data2['hora'] = data2['HORA'].dt.hour\n",
    "\n",
    "\n",
    "# cantidad por mes\n",
    "cantidadpor_mes = data2.groupby('mes')['CANTIDAD'].sum()\n",
    "print(f\"cantidad por mes: \\n{cantidadpor_mes.head()}\")\n",
    "cantidadpor_mes.plot(kind='bar', color='skyblue', figsize=(4, 3))\n",
    "\n",
    "# grafica\n",
    "plt.title(' vehiculos por mes')\n",
    "plt.xlabel('mes')\n",
    "plt.ylabel('vehiculo')\n",
    "plt.xticks(rotation=45)\n",
    "plt.show()"
   ]
  },
  {
   "cell_type": "markdown",
   "metadata": {},
   "source": [
    "Se ve una alta concentracion en los meses 3, 10, 11, 12, y puede deberse a que junto al mes 1 y 2 es el periodo donde es temporada de vacacionar.\n",
    "veremos que en 3 tenemos mucho flujo y en 8 no"
   ]
  },
  {
   "cell_type": "code",
   "execution_count": 13,
   "metadata": {},
   "outputs": [
    {
     "name": "stdout",
     "output_type": "stream",
     "text": [
      " alta concentracion: 15970831.0\n",
      "menor concentracion:  8210385.0\n",
      "se verifica que en 3 hay mas flujo que en 8 True\n"
     ]
    }
   ],
   "source": [
    "data2['HORA'] = pd.to_datetime(data2['HORA'])\n",
    "data2['año'] = data2['HORA'].dt.year\n",
    "data2['mes'] = data2['HORA'].dt.month\n",
    "data2['dia'] = data2['HORA'].dt.day\n",
    "data2['hora'] = data2['HORA'].dt.hour\n",
    "\n",
    "mes3 = data2['CANTIDAD'][(data2['mes'] == 3) & (data2['año'] == 2021)].sum()\n",
    "\n",
    "print(f\" alta concentracion: {mes3}\")\n",
    "\n",
    "mes8= data2['CANTIDAD'][(data2['mes'] == 8 ) &(data2['año'] == 2021)].sum()\n",
    "print(f\"menor concentracion:  {mes8}\")\n",
    "\n",
    "print(f\"se verifica que en 3 hay mas flujo que en 8 {mes3>mes8}\")\n"
   ]
  },
  {
   "cell_type": "markdown",
   "metadata": {},
   "source": [
    "No se puede comparar por anio porque solo tengo 2021 completo pero podemos comparar entre fechas iguales en mismo rango de hora "
   ]
  },
  {
   "cell_type": "code",
   "execution_count": 14,
   "metadata": {},
   "outputs": [
    {
     "name": "stdout",
     "output_type": "stream",
     "text": [
      "cantidad en 2/3/2020: 302602.0\n",
      "cantidad en 2/3/2021: 399430.0\n",
      "cantidad en 2/3/2022: 429236.0\n"
     ]
    }
   ],
   "source": [
    "# comparacion de 2 de marzo en rango de 7 a 20\n",
    "cant1 = data2['CANTIDAD'][(data2['hora'] >= 7 )& (data2['hora'] <= 20) & (data2['año'] == 2020)&(data2['dia'] ==2) &(data2['mes']== 3)].sum()\n",
    "\n",
    "print(f\"cantidad en 2/3/2020: {cant1}\")\n",
    "\n",
    "cant2 = data2['CANTIDAD'][(data2['hora'] >= 7) & (data2['hora'] <= 20) & (data2['año'] == 2021)&(data2['dia'] ==2) &(data2['mes']== 3)].sum()\n",
    "\n",
    "print(f\"cantidad en 2/3/2021: {cant2}\")\n",
    "\n",
    "cant3 = data2['CANTIDAD'][(data2['hora'] >= 7 )& (data2['hora'] <= 20) & (data2['año'] == 2022)&(data2['dia'] ==2) &(data2['mes']== 3)].sum()\n",
    "\n",
    "print(f\"cantidad en 2/3/2022: {cant3}\")"
   ]
  },
  {
   "cell_type": "markdown",
   "metadata": {},
   "source": [
    "se observa que hay trafico vehicular en 2022 aun sabiendo que la pandemia inicio en 20/03/2020\n",
    "no tengo ese dato en 2022. pero podemos decir que el flujo aumento un 41.9% respecto a los datos de 2020 en este caso"
   ]
  },
  {
   "cell_type": "code",
   "execution_count": 15,
   "metadata": {},
   "outputs": [
    {
     "name": "stdout",
     "output_type": "stream",
     "text": [
      " la tabla dinamica: \n",
      "SENTIDO              egreso  ingreso  interna\n",
      "HORA                                         \n",
      "2020-03-02 00:00:00  5048.0   4968.0   7299.0\n",
      "2020-03-02 01:00:00  3061.0   2736.0   4732.0\n",
      "2020-03-02 02:00:00  1938.0   1690.0   2965.0\n",
      "2020-03-02 03:00:00  1712.0   1581.0   2383.0\n",
      "2020-03-02 04:00:00  2320.0   2276.0   2605.0\n",
      "...                     ...      ...      ...\n",
      "2022-03-12 16:00:00  8561.0   7357.0  15820.0\n",
      "2022-03-12 17:00:00  8030.0   7205.0  16037.0\n",
      "2022-03-12 18:00:00  7971.0   8129.0  17169.0\n",
      "2022-03-12 19:00:00  8799.0   9051.0  15454.0\n",
      "2022-03-12 20:00:00  8902.0   9962.0  16036.0\n",
      "\n",
      "[17694 rows x 3 columns]\n",
      " el promedio de datos por sentido: \n",
      "            CANTIDAD\n",
      "SENTIDO             \n",
      "egreso   1508.289006\n",
      "ingreso  2182.533343\n",
      "interna  1632.863336\n",
      "0    False\n",
      "1     True\n",
      "2    False\n",
      "3     True\n",
      "4     True\n",
      "Name: SENTIDO, dtype: bool\n",
      "0    False\n",
      "1    False\n",
      "2    False\n",
      "3    False\n",
      "4    False\n",
      "Name: SENTIDO, dtype: bool\n",
      "0     True\n",
      "1    False\n",
      "2     True\n",
      "3    False\n",
      "4    False\n",
      "Name: SENTIDO, dtype: bool\n"
     ]
    }
   ],
   "source": [
    "\n",
    "# tabla dinámica\n",
    "tabla_dinamica = data2.pivot_table(values='CANTIDAD', index='HORA', columns='SENTIDO', aggfunc='sum', fill_value=0)\n",
    "print(f\" la tabla dinamica: \\n{tabla_dinamica}\")\n",
    "\n",
    "# promedio por 'SENTIDO'\n",
    "promedio_por_sentido = data2. pivot_table(values='CANTIDAD', index='SENTIDO', aggfunc='mean')\n",
    "print(f\" el promedio de datos por sentido: \\n{promedio_por_sentido}\")\n",
    "# filtro por tipo de dato -> \n",
    "egreso_data = data2['SENTIDO'] == 'egreso'\n",
    "ingreso_data= data2['SENTIDO'] == 'ingreso'\n",
    "interna_data= data2['SENTIDO'] == 'interna'\n",
    "print(egreso_data.head())\n",
    "print(ingreso_data.head())\n",
    "print(interna_data.head())"
   ]
  },
  {
   "cell_type": "markdown",
   "metadata": {},
   "source": [
    "Ahora, una analisis de la densidad de trafico en funcion de la hora."
   ]
  },
  {
   "cell_type": "code",
   "execution_count": 16,
   "metadata": {},
   "outputs": [
    {
     "name": "stdout",
     "output_type": "stream",
     "text": [
      "densidad por hora: \n",
      "hora\n",
      "0    5715293.0\n",
      "1    4131565.0\n",
      "2    2905132.0\n",
      "3    2285799.0\n",
      "4    2844152.0\n",
      "Name: CANTIDAD, dtype: float64\n"
     ]
    },
    {
     "data": {
      "image/png": "[encoded data removed]",
      "text/plain": [
       "<Figure size 400x300 with 1 Axes>"
      ]
     },
     "metadata": {},
     "output_type": "display_data"
    }
   ],
   "source": [
    "\n",
    "\n",
    "\n",
    "import matplotlib.pyplot as plt\n",
    "data2['HORA'] = pd.to_datetime(data2['HORA'])\n",
    "data2['hora'] = data2['HORA'].dt.hour\n",
    "\n",
    "# densidad de tráfico (cantidad dividida por diferencia absoluta de coordenadas)\n",
    "data2['densidad'] = data2['CANTIDAD'] / (data2['LATITUD'] - data2['LONGITUD']).abs()\n",
    "\n",
    "# cantidad por hora\n",
    "densidadpor_hora = data2.groupby('hora')['densidad'].sum()\n",
    "print(f\"densidad por hora: \\n{cantidadpor_hora.head()}\")\n",
    "densidadpor_hora.plot(kind='bar', color='skyblue', figsize=(4, 3))\n",
    "\n",
    "# la grafica\n",
    "plt.title(' densidad por hora')\n",
    "plt.xlabel('hora')\n",
    "plt.ylabel('densidad')\n",
    "plt.xticks(rotation=45)\n",
    "plt.show()\n",
    "\n",
    "\n"
   ]
  },
  {
   "cell_type": "markdown",
   "metadata": {},
   "source": [
    "Vemos que existe alta densidad vehicular en la hora pico ya mencionada. Entonces es ahi donde hay mas flujo vehicular en determinadas latitudes y longitudes."
   ]
  },
  {
   "cell_type": "markdown",
   "metadata": {},
   "source": [
    "Ahora relacionare las columnas de SENTIDO Y CANTIDAD ya que podemos ver para donde se dirigen "
   ]
  },
  {
   "cell_type": "code",
   "execution_count": 17,
   "metadata": {},
   "outputs": [
    {
     "name": "stdout",
     "output_type": "stream",
     "text": [
      "sentido por cantidad: \n",
      "SENTIDO_CODIFICADO\n",
      "0    160903986.0\n",
      "1     76781523.0\n",
      "2     79473256.0\n",
      "Name: CANTIDAD, dtype: float64\n"
     ]
    },
    {
     "data": {
      "image/png": "[encoded data removed]",
      "text/plain": [
       "<Figure size 400x300 with 1 Axes>"
      ]
     },
     "metadata": {},
     "output_type": "display_data"
    }
   ],
   "source": [
    "import matplotlib.pyplot as plt\n",
    "# diccionario para codificar las categorías\n",
    "codificacion = {'interna': 0, 'ingreso': 1, 'egreso': 2}\n",
    "data2['SENTIDO_CODIFICADO'] = data2['SENTIDO'].map(codificacion)\n",
    "analisis_sentido = data2.groupby('SENTIDO_CODIFICADO')['CANTIDAD'].sum()\n",
    "print(f\"sentido por cantidad: \\n{analisis_sentido}\")\n",
    "\n",
    "plt.figure(figsize=(4,3))  \n",
    "analisis_sentido.plot(kind='bar', color=['skyblue', 'orange', 'green'])  # Colores para cada sentido\n",
    "\n",
    "# Personalizar el gráfico\n",
    "plt.title('Cantidad de vehículos por sentido')  # Título\n",
    "plt.xlabel('Sentido')  # Etiqueta del eje X\n",
    "plt.ylabel('Cantidad de vehículos')  # Etiqueta del eje Y\n",
    "plt.xticks(ticks=[0, 1, 2], labels=['Interna', 'Ingreso', 'Egreso'], rotation=0)  # Etiquetas para los sentidos\n",
    "plt.show()"
   ]
  },
  {
   "cell_type": "markdown",
   "metadata": {},
   "source": [
    "El flujo se inclina mayoritariamente por el sentido \"interna\"."
   ]
  },
  {
   "cell_type": "markdown",
   "metadata": {},
   "source": [
    "A continuacion, un grafico de como se distribuyen los vehiculos de acuerdo a los datos de longitud y latitud"
   ]
  },
  {
   "cell_type": "code",
   "execution_count": null,
   "metadata": {},
   "outputs": [
    {
     "data": {
      "image/png": "[encoded data removed]",
      "text/plain": [
       "<Figure size 1000x800 with 1 Axes>"
      ]
     },
     "metadata": {},
     "output_type": "display_data"
    },
    {
     "name": "stdout",
     "output_type": "stream",
     "text": [
      "  CODIGO_LOCACION                HORA  CANTIDAD  SENTIDO    LATITUD  \\\n",
      "0       48Q3CJ00+ 2020-03-31 15:00:00     729.0  interna -34.588796   \n",
      "1       48Q3CJ00+ 2020-03-31 15:00:00     447.0   egreso -34.588796   \n",
      "2       48Q39G00+ 2020-03-31 15:00:00     175.0  interna -34.633299   \n",
      "3       48Q39G00+ 2020-03-31 15:00:00    1186.0   egreso -34.633299   \n",
      "4       48Q3CH00+ 2020-03-31 15:00:00      35.0   egreso -34.579632   \n",
      "\n",
      "    LONGITUD   año  mes  dia  hora   densidad  SENTIDO_CODIFICADO  \n",
      "0 -58.381520  2020    3   31    15  30.639619                   0  \n",
      "1 -58.381520  2020    3   31    15  18.787256                   2  \n",
      "2 -58.468594  2020    3   31    15   7.342053                   0  \n",
      "3 -58.468594  2020    3   31    15  49.758142                   2  \n",
      "4 -58.427733  2020    3   31    15   1.467622                   2  \n"
     ]
    }
   ],
   "source": [
    "#grafica de ubicacion de los vehiculos\n",
    "import seaborn as sns\n",
    "\n",
    "plt.figure(figsize=(10, 8))\n",
    "\n",
    "sns.scatterplot(data=data2, x='LONGITUD', y='LATITUD', hue='CANTIDAD', palette='viridis', size='CANTIDAD', sizes=(12,6))\n",
    "\n",
    "plt.title('Distribución geográfica de los vehículos')\n",
    "\n",
    "plt.xlabel('Longitud')\n",
    "\n",
    "plt.ylabel('Latitud')\n",
    "\n",
    "plt.show()\n"
   ]
  },
  {
   "cell_type": "markdown",
   "metadata": {},
   "source": [
    "Ahora propongo un modelo lineal para predecir la variabilidad de la variable CANTIDAD"
   ]
  },
  {
   "cell_type": "code",
   "execution_count": 19,
   "metadata": {},
   "outputs": [
    {
     "name": "stdout",
     "output_type": "stream",
     "text": [
      "Mean Squared Error: 2505989.22\n",
      "R^2 Score: 0.08\n"
     ]
    }
   ],
   "source": [
    "from sklearn.model_selection import train_test_split\n",
    "from sklearn.preprocessing import LabelEncoder\n",
    "from sklearn.linear_model import LinearRegression\n",
    "from sklearn.metrics import mean_squared_error, r2_score\n",
    "\n",
    "# variables categóricas a numéricas\n",
    "label_encoders = {}\n",
    "for column in ['CODIGO_LOCACION', 'HORA', 'SENTIDO']:\n",
    "    le = LabelEncoder()\n",
    "    data2[column] = le.fit_transform(data2[column])\n",
    "    label_encoders[column] = le \n",
    "    \n",
    "X = data2[['CODIGO_LOCACION', 'HORA', 'SENTIDO', 'LATITUD', 'LONGITUD']]\n",
    "y = data2['CANTIDAD']\n",
    "\n",
    "# dividir los datos en conjuntos de entrenamiento y prueba \n",
    "X_train, X_test, y_train, y_test = train_test_split(X, y, test_size=0.2, random_state=42)\n",
    "\n",
    "# crear el modelo\n",
    "model = LinearRegression()\n",
    "\n",
    "# entrenarlo\n",
    "model.fit(X_train, y_train)\n",
    "\n",
    "# hace predicciones \n",
    "y_pred = model.predict(X_test)\n",
    "\n",
    "# evaluar el rendimiento\n",
    "mse = mean_squared_error(y_test, y_pred)\n",
    "r2 = r2_score(y_test, y_pred)\n",
    "\n",
    "print(f'Mean Squared Error: {mse:.2f}')\n",
    "print(f'R^2 Score: {r2:.2f}')"
   ]
  },
  {
   "cell_type": "markdown",
   "metadata": {},
   "source": [
    "El R² score es muy bajo por lo que el modelo no estaria capturando la relacion entre las variables independientes y la dependiente, de modo que la variable CANTIDAD no puede ser explicada en cuanto a su variabilidad.\n",
    "El MSE indica una alta diferencia cuadratica entre las predicciones y los valores reales por lo que el modelo no esta haciendo predicciones muy precisas."
   ]
  },
  {
   "cell_type": "markdown",
   "metadata": {},
   "source": [
    "Propongo un modelo predictivo con un arbol de decision"
   ]
  },
  {
   "cell_type": "code",
   "execution_count": 22,
   "metadata": {},
   "outputs": [
    {
     "name": "stdout",
     "output_type": "stream",
     "text": [
      "Mean Squared Error: 807726.16\n",
      "R^2 Score: 0.70\n"
     ]
    }
   ],
   "source": [
    "from sklearn.model_selection import train_test_split\n",
    "from sklearn.preprocessing import LabelEncoder\n",
    "from sklearn.tree import DecisionTreeRegressor\n",
    "from sklearn.metrics import mean_squared_error, r2_score\n",
    "\n",
    "\n",
    "\n",
    "# Convertir variables categóricas a numéricas\n",
    "label_encoders = {}\n",
    "for column in ['CODIGO_LOCACION', 'HORA', 'SENTIDO']:\n",
    "    le = LabelEncoder()\n",
    "    data2[column] = le.fit_transform(data2[column])\n",
    "    label_encoders[column] = le  # Guardar el encoder si se necesita más tarde\n",
    "\n",
    "# Definir las características (X) y la variable objetivo (y)\n",
    "X = data2[['CODIGO_LOCACION', 'HORA', 'SENTIDO', 'LATITUD', 'LONGITUD']]\n",
    "y = data2['CANTIDAD']\n",
    "\n",
    "# Dividir los datos en conjuntos de entrenamiento y prueba (80% - 20%)\n",
    "X_train, X_test, y_train, y_test = train_test_split(X, y, test_size=0.2, random_state=42)\n",
    "\n",
    "# Crear el modelo de Árbol de Decisión\n",
    "model = DecisionTreeRegressor(random_state=42)\n",
    "\n",
    "# Entrenar el modelo\n",
    "model.fit(X_train, y_train)\n",
    "\n",
    "# Hacer predicciones sobre el conjunto de prueba\n",
    "y_pred = model.predict(X_test)\n",
    "\n",
    "# Evaluar el rendimiento del modelo\n",
    "mse = mean_squared_error(y_test, y_pred)\n",
    "r2 = r2_score(y_test, y_pred)\n",
    "\n",
    "print(f'Mean Squared Error: {mse:.2f}')\n",
    "print(f'R^2 Score: {r2:.2f}')\n"
   ]
  },
  {
   "cell_type": "markdown",
   "metadata": {},
   "source": [
    "Conclusion: como el R^2 score esta cerca de 1 entonces el modelo explica en un 70% la variabilidad de la variable cantidad"
   ]
  }
 ],
 "metadata": {
  "kernelspec": {
   "display_name": ".venv",
   "language": "python",
   "name": "python3"
  },
  "language_info": {
   "codemirror_mode": {
    "name": "ipython",
    "version": 3
   },
   "file_extension": ".py",
   "mimetype": "text/x-python",
   "name": "python",
   "nbconvert_exporter": "python",
   "pygments_lexer": "ipython3",
   "version": "3.11.2"
  }
 },
 "nbformat": 4,
 "nbformat_minor": 2
}
